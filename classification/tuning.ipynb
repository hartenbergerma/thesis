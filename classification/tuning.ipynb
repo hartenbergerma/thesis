{
 "cells": [
  {
   "cell_type": "code",
   "execution_count": 1,
   "metadata": {},
   "outputs": [],
   "source": [
    "import os\n",
    "import json\n",
    "import numpy as np\n",
    "import lightning.pytorch as pl\n",
    "\n",
    "import torch\n",
    "from torch import optim, nn, Tensor\n",
    "from torch.utils.data import Dataset, DataLoader\n",
    "from torchmetrics import Accuracy \n",
    "from torchmetrics.classification import MulticlassF1Score\n",
    "\n",
    "from lightning.pytorch.loggers import TensorBoardLogger\n",
    "from lightning.pytorch.callbacks import EarlyStopping"
   ]
  },
  {
   "cell_type": "code",
   "execution_count": 3,
   "metadata": {},
   "outputs": [],
   "source": [
    "class helicoid_Dataset(Dataset):\n",
    "    def __init__(self, patient_folders, files, transform=None, mode='labeled'):\n",
    "        self.data = []\n",
    "        self.labels = []\n",
    "        self.transform = transform\n",
    "        for patient_folder in patient_folders:\n",
    "            print(f\"loading image {patient_folder}\")\n",
    "            patient_folder = os.path.join('/home/martin_ivan/code/own_labels/npj_database/', patient_folder)\n",
    "            img_data = []\n",
    "            img_labels = np.load(os.path.join(patient_folder, 'gtMap.npy')).astype(int)\n",
    "            for file in files:\n",
    "                img_data_all = np.load(os.path.join(patient_folder, file))\n",
    "                if mode == 'labeled':\n",
    "                    # img_data.append(img_data_all[(img_labels !=0) & (img_labels != 4)])\n",
    "                    img_data.append(img_data_all[(img_labels !=0)])\n",
    "                elif mode == 'all':\n",
    "                    img_data.append(img_data_all.reshape(-1, img_data_all.shape[-1]))\n",
    "                else:\n",
    "                    raise ValueError(\"Unknown mode\")\n",
    "            img_data = np.concatenate(img_data, axis=1)\n",
    "\n",
    "            self.data.append(img_data)\n",
    "            if mode == 'labeled':\n",
    "                # self.labels.append(img_labels[(img_labels !=0) & (img_labels != 4)])\n",
    "                self.labels.append(img_labels[(img_labels !=0)])\n",
    "            elif mode == 'all':\n",
    "                self.labels.append(img_labels.reshape(-1))\n",
    "            else:\n",
    "                raise ValueError(\"Unknown mode\")\n",
    "                    \n",
    "        self.data = np.concatenate(self.data, axis=0)\n",
    "        self.labels = np.concatenate(self.labels, axis=0)\n",
    "        print(f\"------------- label counts: {np.unique(self.labels, return_counts=True)} -------------\")\n",
    "\n",
    "    def __len__(self):\n",
    "        return len(self.data)\n",
    "    \n",
    "    def __getitem__(self, idx):\n",
    "        x = self.data[idx]\n",
    "        y = self.labels[idx] - 1\n",
    "        if self.transform:\n",
    "            x, y = self.transform((x, y))\n",
    "        return x, y\n",
    "    \n",
    "class ToTensor(object):\n",
    "    def __call__(self, sample):\n",
    "        x, y = sample\n",
    "        return torch.tensor(x, dtype=torch.float32), torch.tensor(y, dtype=torch.long)\n",
    "\n",
    "class HelicoidDataModule(pl.LightningDataModule):\n",
    "    def __init__(self, files, batch_size=64, fold=\"fold1\"):\n",
    "        super().__init__()\n",
    "        self.batch_size = batch_size\n",
    "        self.fold = fold\n",
    "        self.files = files\n",
    "        self.transform = ToTensor()\n",
    "\n",
    "        self.setup()\n",
    "\n",
    "    def setup(self, stage=None):\n",
    "        with open('/home/martin_ivan/code/own_labels/folds.json') as f:\n",
    "            folds = json.load(f)\n",
    "\n",
    "        if stage==\"fit\":\n",
    "            self.dataset_train = helicoid_Dataset(folds[self.fold][\"train\"], self.files, transform=self.transform)\n",
    "            self.dataset_val = helicoid_Dataset(folds[self.fold][\"val\"], self.files, transform=self.transform)\n",
    "        if stage==\"test\":\n",
    "            self.dataset_test = helicoid_Dataset(folds[self.fold][\"test\"], self.files, transform=self.transform)\n",
    "        if stage==\"predict\":\n",
    "            self.dataset_predict = helicoid_Dataset(folds[self.fold][\"test\"], self.files, transform=self.transform, mode='all')\n",
    "\n",
    "    def train_dataloader(self):\n",
    "        return DataLoader(self.dataset_train, batch_size=self.batch_size, shuffle=True, num_workers=16)\n",
    "    \n",
    "    def val_dataloader(self):\n",
    "        return DataLoader(self.dataset_val, batch_size=self.batch_size, shuffle=False, num_workers=16)\n",
    "    \n",
    "    def test_dataloader(self): \n",
    "        return DataLoader(self.dataset_test, batch_size=self.batch_size, shuffle=False, num_workers=16)\n",
    "    \n",
    "    def predict_dataloader(self):\n",
    "        return DataLoader(self.dataset_predict, batch_size=self.batch_size, shuffle=False, num_workers=16)\n",
    "    \n",
    "    def sample_size(self):\n",
    "        return self.dataset_train.data.shape[1]\n",
    "    \n",
    "    def class_distribution(self):\n",
    "        return np.unique(self.dataset_train.labels, return_counts=True)[1]\n",
    "    \n",
    "    def num_classes(self):\n",
    "        return len(np.unique(self.dataset_train.labels))"
   ]
  },
  {
   "cell_type": "code",
   "execution_count": 21,
   "metadata": {},
   "outputs": [],
   "source": [
    "class ClassificationModel(pl.LightningModule):\n",
    "    def __init__(self, input_dim, output_dim, loss_weight, config):\n",
    "        super().__init__()\n",
    "\n",
    "        device = \"cuda\" if torch.cuda.is_available() else \"cpu\"\n",
    "        self.loss_weight = Tensor(loss_weight).to(device)\n",
    "        self.accuracy = Accuracy(task=\"multiclass\", num_classes=output_dim, top_k=1)\n",
    "        self.f1_score = MulticlassF1Score(num_classes=output_dim, average=\"macro\")\n",
    "\n",
    "        self.weight_decay = config[\"weight_decay\"]\n",
    "        self.lr = config[\"lr\"]\n",
    "        self.num_layers = config[\"num_layers\"]\n",
    "        self.hidden_dim = config[\"hidden_dim\"]\n",
    "        self.last_layer_dim = config[\"last_layer_dim\"]\n",
    "\n",
    "        input_layer = nn.Linear(input_dim, self.hidden_dim)\n",
    "        hidden_layers = []\n",
    "        for _ in range(self.num_layers):\n",
    "            hidden_layers.append(nn.Linear(self.hidden_dim, self.hidden_dim))\n",
    "            hidden_layers.append(nn.ReLU())\n",
    "            hidden_layers.append(nn.BatchNorm1d(self.hidden_dim))\n",
    "        last_layer = nn.Linear(self.hidden_dim, self.last_layer_dim)\n",
    "        output_layer = nn.Linear(self.last_layer_dim, output_dim)\n",
    "        self.layers = nn.Sequential(input_layer, nn.ReLU(), nn.BatchNorm1d(self.hidden_dim), *hidden_layers, last_layer, nn.ReLU(), nn.BatchNorm1d(self.last_layer_dim), output_layer)\n",
    "        # self.layers = nn.Sequential(input_layer, nn.BatchNorm1d(self.hidden_dim), nn.ReLU(), last_layer, nn.BatchNorm1d(self.last_layer_dim), nn.ReLU(), output_layer)\n",
    "\n",
    "        self.epoch_logits = []\n",
    "        self.epoch_labels = []\n",
    "        self.lowest_val_loss = np.inf\n",
    "        self.best_epoch = 0\n",
    "\n",
    "    def forward(self, x):\n",
    "        return self.layers(x)\n",
    "    \n",
    "    def training_step(self, batch, batch_idx):\n",
    "        x, y = batch\n",
    "        logits = self(x)\n",
    "        loss = nn.functional.cross_entropy(logits, y, weight=self.loss_weight)\n",
    "        accuracy = self.accuracy(logits, y)\n",
    "        self.log(\"train/train_loss\", loss)\n",
    "        self.log(\"train/train_accuracy\", accuracy)\n",
    "        return loss\n",
    "    \n",
    "    def validation_step(self, batch, batch_idx):\n",
    "        x, y = batch\n",
    "        self.eval()\n",
    "        logits = self(x)\n",
    "        loss = nn.functional.cross_entropy(logits, y, weight=self.loss_weight)\n",
    "        accuracy = self.accuracy(logits, y)\n",
    "        self.log(\"val/val_loss\", loss, on_epoch=True, on_step=False)\n",
    "        self.log(\"test/test_accuracy\", accuracy, on_epoch=True, on_step=False)\n",
    "\n",
    "        self.epoch_logits.append(logits)\n",
    "        self.epoch_labels.append(y)\n",
    "    \n",
    "    def test_step(self, batch, batch_idx):\n",
    "        x, y = batch\n",
    "        logits = self(x)\n",
    "        loss = nn.functional.cross_entropy(logits, y, weight=self.loss_weight)\n",
    "        accuracy = self.accuracy(logits, y)\n",
    "        self.log(\"test/test_loss\", loss, on_epoch=True, on_step=False)\n",
    "        self.log(\"test/test_accuracy\", accuracy, on_epoch=True, on_step=False)\n",
    "\n",
    "        self.epoch_logits.append(logits)\n",
    "        self.epoch_labels.append(y)\n",
    "\n",
    "    def on_validation_epoch_end(self):\n",
    "        # calculate f1 score\n",
    "        epoch_logits = torch.cat(self.epoch_logits, dim=0)\n",
    "        epoch_labels = torch.cat(self.epoch_labels, dim=0)\n",
    "        f1_score = self.f1_score(epoch_logits, epoch_labels)\n",
    "        self.log(\"val/f1_score\", f1_score, sync_dist=True)\n",
    "        self.epoch_logits.clear()\n",
    "        self.epoch_labels.clear()\n",
    "\n",
    "    def on_test_epoch_end(self):\n",
    "        # calculate f1 score\n",
    "        epoch_logits = torch.cat(self.epoch_logits, dim=0)\n",
    "        epoch_labels = torch.cat(self.epoch_labels, dim=0)\n",
    "        f1_score = self.f1_score(epoch_logits, epoch_labels)\n",
    "        self.log(\"test/f1_score\", f1_score, sync_dist=True)\n",
    "        self.epoch_logits.clear()\n",
    "        self.epoch_labels.clear()\n",
    "\n",
    "    def on_train_epoch_end(self):\n",
    "        i = 0\n",
    "        for layer in self.layers:\n",
    "            if isinstance(layer, nn.Linear):\n",
    "                i += 1\n",
    "                self.logger.experiment.add_histogram(f\"layer_{i}/weight\", layer.weight, self.current_epoch)\n",
    "                self.logger.experiment.add_histogram(f\"layer_{i}/bias\", layer.bias, self.current_epoch)\n",
    "    \n",
    "    def configure_optimizers(self):\n",
    "        optimizer = optim.Adam(self.parameters(), self.lr, weight_decay=self.weight_decay)\n",
    "        return optimizer"
   ]
  },
  {
   "cell_type": "code",
   "execution_count": 5,
   "metadata": {},
   "outputs": [
    {
     "name": "stdout",
     "output_type": "stream",
     "text": [
      "loading image 005-01\n",
      "loading image 007-01\n",
      "loading image 012-01\n",
      "loading image 012-02\n",
      "loading image 018-01\n",
      "loading image 018-02\n",
      "loading image 019-01\n",
      "loading image 020-01\n",
      "loading image 013-01\n",
      "loading image 015-01\n",
      "loading image 017-01\n",
      "loading image 034-02\n",
      "loading image 035-01\n",
      "loading image 036-01\n",
      "loading image 036-02\n",
      "loading image 038-01\n",
      "loading image 040-01\n",
      "loading image 040-02\n",
      "loading image 043-01\n",
      "loading image 043-02\n",
      "loading image 043-04\n",
      "loading image 050-01\n",
      "loading image 051-01\n",
      "loading image 053-01\n",
      "loading image 055-01\n",
      "loading image 056-01\n",
      "loading image 056-02\n",
      "loading image 057-01\n",
      "loading image 058-02\n",
      "------------- label counts: (array([1, 2, 3, 4]), array([179536,  29262,  70340, 277811])) -------------\n",
      "loading image 004-02\n",
      "loading image 008-01\n",
      "loading image 008-02\n",
      "loading image 022-01\n",
      "loading image 022-02\n",
      "loading image 039-01\n",
      "loading image 039-02\n",
      "loading image 041-01\n",
      "loading image 041-02\n",
      "------------- label counts: (array([1, 2, 3, 4]), array([39410,  3459,  9548, 43357])) -------------\n",
      "loading image 005-01\n",
      "loading image 007-01\n",
      "loading image 012-01\n",
      "loading image 012-02\n",
      "loading image 018-01\n",
      "loading image 018-02\n",
      "loading image 019-01\n",
      "loading image 020-01\n",
      "loading image 013-01\n",
      "loading image 015-01\n",
      "loading image 017-01\n",
      "loading image 034-02\n",
      "loading image 035-01\n",
      "loading image 036-01\n",
      "loading image 036-02\n",
      "loading image 038-01\n",
      "loading image 040-01\n",
      "loading image 040-02\n",
      "loading image 043-01\n",
      "loading image 043-02\n",
      "loading image 043-04\n",
      "loading image 050-01\n",
      "loading image 051-01\n",
      "loading image 053-01\n",
      "loading image 055-01\n",
      "loading image 056-01\n",
      "loading image 056-02\n",
      "loading image 057-01\n",
      "loading image 058-02\n",
      "------------- label counts: (array([1, 2, 3, 4]), array([179536,  29262,  70340, 277811])) -------------\n",
      "loading image 004-02\n",
      "loading image 008-01\n",
      "loading image 008-02\n",
      "loading image 022-01\n",
      "loading image 022-02\n",
      "loading image 039-01\n",
      "loading image 039-02\n",
      "loading image 041-01\n",
      "loading image 041-02\n",
      "------------- label counts: (array([1, 2, 3, 4]), array([39410,  3459,  9548, 43357])) -------------\n"
     ]
    }
   ],
   "source": [
    "files_hm = [\"preprocessed.npy\", \"heatmaps_osp.npy\", \"heatmaps_osp_diff.npy\", \"heatmaps_osp_diff_mc.npy\", \"heatmaps_icem.npy\", \"heatmaps_icem_diff.npy\", \"heatmaps_icem_diff_mc.npy\"]\n",
    "dm_hm = HelicoidDataModule(files=files_hm, fold=\"fold1\")\n",
    "dm_hm .setup(\"fit\")\n",
    "\n",
    "files_bl = [\"preprocessed.npy\"]\n",
    "dm_bl = HelicoidDataModule(files=files_bl, fold=\"fold1\")\n",
    "dm_bl.setup(\"fit\")"
   ]
  },
  {
   "cell_type": "code",
   "execution_count": 29,
   "metadata": {},
   "outputs": [],
   "source": [
    "def train(config, dm):\n",
    "    logger = TensorBoardLogger(config[\"log_dir\"], name=\"my_model\")\n",
    "    model = ClassificationModel(input_dim=dm.sample_size(), output_dim=dm.num_classes(), loss_weight=dm.class_distribution(), config=config)\n",
    "\n",
    "    early_stop_callback = EarlyStopping(monitor=\"val/val_loss\", min_delta=0.0, patience=3, verbose=False, mode=\"min\")\n",
    "    # trainer = pl.Trainer(logger=logger, max_epochs=config[\"num_epochs\"], devices=1, callbacks=[early_stop_callback])\n",
    "    trainer = pl.Trainer(logger=logger, max_epochs=1, devices=1, callbacks=[early_stop_callback])\n",
    "\n",
    "    trainer.fit(model, dm.train_dataloader(), dm.val_dataloader())\n",
    "\n",
    "    # log hyperparameters and metrics\n",
    "    best_val_loss = early_stop_callback.best_score\n",
    "    params = {\n",
    "        \"hidden_dim\": config[\"hidden_dim\"],\n",
    "        \"num_layers\": config[\"num_layers\"],\n",
    "        \"last_layer_dim\": config[\"last_layer_dim\"],\n",
    "        \"lr\": config[\"lr\"],\n",
    "        \"weight_decay\": config[\"weight_decay\"],\n",
    "    }\n",
    "    metrics = {\"best_val_loss\": best_val_loss}\n",
    "    logger.log_hyperparams(params, metrics)\n",
    "\n",
    "    return model"
   ]
  },
  {
   "cell_type": "code",
   "execution_count": 31,
   "metadata": {},
   "outputs": [
    {
     "name": "stderr",
     "output_type": "stream",
     "text": [
      "GPU available: True (cuda), used: True\n",
      "TPU available: False, using: 0 TPU cores\n",
      "IPU available: False, using: 0 IPUs\n",
      "HPU available: False, using: 0 HPUs\n",
      "Missing logger folder: ./logs/bl/my_model\n",
      "LOCAL_RANK: 0 - CUDA_VISIBLE_DEVICES: [0,1,2,3,4,5,6,7]\n",
      "\n",
      "  | Name     | Type               | Params\n",
      "------------------------------------------------\n",
      "0 | accuracy | MulticlassAccuracy | 0     \n",
      "1 | f1_score | MulticlassF1Score  | 0     \n",
      "2 | layers   | Sequential         | 3.2 K \n",
      "------------------------------------------------\n",
      "3.2 K     Trainable params\n",
      "0         Non-trainable params\n",
      "3.2 K     Total params\n",
      "0.013     Total estimated model params size (MB)\n"
     ]
    },
    {
     "name": "stdout",
     "output_type": "stream",
     "text": [
      "{'hidden_dim': 8, 'num_layers': 0, 'last_layer_dim': 5, 'lr': 0.00034695163352925664, 'weight_decay': 2.9022967000278148e-05, 'num_epochs': 50}\n"
     ]
    },
    {
     "data": {
      "application/vnd.jupyter.widget-view+json": {
       "model_id": "0dd46ac7ce32470ea9cb2fdca4379524",
       "version_major": 2,
       "version_minor": 0
      },
      "text/plain": [
       "Sanity Checking: |          | 0/? [00:00<?, ?it/s]"
      ]
     },
     "metadata": {},
     "output_type": "display_data"
    },
    {
     "data": {
      "application/vnd.jupyter.widget-view+json": {
       "model_id": "e55163c3803c42ef90add6bb44e9fd33",
       "version_major": 2,
       "version_minor": 0
      },
      "text/plain": [
       "Training: |          | 0/? [00:00<?, ?it/s]"
      ]
     },
     "metadata": {},
     "output_type": "display_data"
    },
    {
     "data": {
      "application/vnd.jupyter.widget-view+json": {
       "model_id": "f1562651d5284f1e8c3cb2eec9abcae2",
       "version_major": 2,
       "version_minor": 0
      },
      "text/plain": [
       "Validation: |          | 0/? [00:00<?, ?it/s]"
      ]
     },
     "metadata": {},
     "output_type": "display_data"
    },
    {
     "name": "stderr",
     "output_type": "stream",
     "text": [
      "`Trainer.fit` stopped: `max_epochs=1` reached.\n",
      "GPU available: True (cuda), used: True\n",
      "TPU available: False, using: 0 TPU cores\n",
      "IPU available: False, using: 0 IPUs\n",
      "HPU available: False, using: 0 HPUs\n",
      "Missing logger folder: ./logs/hm/my_model\n",
      "LOCAL_RANK: 0 - CUDA_VISIBLE_DEVICES: [0,1,2,3,4,5,6,7]\n",
      "\n",
      "  | Name     | Type               | Params\n",
      "------------------------------------------------\n",
      "0 | accuracy | MulticlassAccuracy | 0     \n",
      "1 | f1_score | MulticlassF1Score  | 0     \n",
      "2 | layers   | Sequential         | 3.7 K \n",
      "------------------------------------------------\n",
      "3.7 K     Trainable params\n",
      "0         Non-trainable params\n",
      "3.7 K     Total params\n",
      "0.015     Total estimated model params size (MB)\n"
     ]
    },
    {
     "data": {
      "application/vnd.jupyter.widget-view+json": {
       "model_id": "f14a366e1f3c40aa8f1d671810f9c368",
       "version_major": 2,
       "version_minor": 0
      },
      "text/plain": [
       "Sanity Checking: |          | 0/? [00:00<?, ?it/s]"
      ]
     },
     "metadata": {},
     "output_type": "display_data"
    },
    {
     "data": {
      "application/vnd.jupyter.widget-view+json": {
       "model_id": "1fd13cdddbac4b19a49ed03ab547076f",
       "version_major": 2,
       "version_minor": 0
      },
      "text/plain": [
       "Training: |          | 0/? [00:00<?, ?it/s]"
      ]
     },
     "metadata": {},
     "output_type": "display_data"
    },
    {
     "name": "stderr",
     "output_type": "stream",
     "text": [
      "GPU available: True (cuda), used: True\n",
      "TPU available: False, using: 0 TPU cores\n",
      "IPU available: False, using: 0 IPUs\n",
      "HPU available: False, using: 0 HPUs\n",
      "LOCAL_RANK: 0 - CUDA_VISIBLE_DEVICES: [0,1,2,3,4,5,6,7]\n",
      "\n",
      "  | Name     | Type               | Params\n",
      "------------------------------------------------\n",
      "0 | accuracy | MulticlassAccuracy | 0     \n",
      "1 | f1_score | MulticlassF1Score  | 0     \n",
      "2 | layers   | Sequential         | 14.6 K\n",
      "------------------------------------------------\n",
      "14.6 K    Trainable params\n",
      "0         Non-trainable params\n",
      "14.6 K    Total params\n",
      "0.058     Total estimated model params size (MB)\n"
     ]
    },
    {
     "name": "stdout",
     "output_type": "stream",
     "text": [
      "{'hidden_dim': 32, 'num_layers': 1, 'last_layer_dim': 30, 'lr': 0.0006566343024609644, 'weight_decay': 0.0007319453053795729, 'num_epochs': 50}\n"
     ]
    },
    {
     "data": {
      "application/vnd.jupyter.widget-view+json": {
       "model_id": "25e81e59389442a0b6d41e626dcbe3cd",
       "version_major": 2,
       "version_minor": 0
      },
      "text/plain": [
       "Sanity Checking: |          | 0/? [00:00<?, ?it/s]"
      ]
     },
     "metadata": {},
     "output_type": "display_data"
    },
    {
     "data": {
      "application/vnd.jupyter.widget-view+json": {
       "model_id": "2d47a2d44e674a6b9cb02d173d8671ba",
       "version_major": 2,
       "version_minor": 0
      },
      "text/plain": [
       "Training: |          | 0/? [00:00<?, ?it/s]"
      ]
     },
     "metadata": {},
     "output_type": "display_data"
    },
    {
     "name": "stderr",
     "output_type": "stream",
     "text": [
      "GPU available: True (cuda), used: True\n",
      "TPU available: False, using: 0 TPU cores\n",
      "IPU available: False, using: 0 IPUs\n",
      "HPU available: False, using: 0 HPUs\n",
      "LOCAL_RANK: 0 - CUDA_VISIBLE_DEVICES: [0,1,2,3,4,5,6,7]\n",
      "\n",
      "  | Name     | Type               | Params\n",
      "------------------------------------------------\n",
      "0 | accuracy | MulticlassAccuracy | 0     \n",
      "1 | f1_score | MulticlassF1Score  | 0     \n",
      "2 | layers   | Sequential         | 16.7 K\n",
      "------------------------------------------------\n",
      "16.7 K    Trainable params\n",
      "0         Non-trainable params\n",
      "16.7 K    Total params\n",
      "0.067     Total estimated model params size (MB)\n"
     ]
    },
    {
     "data": {
      "application/vnd.jupyter.widget-view+json": {
       "model_id": "81415de33d084cf7bc1ef2781f295e5d",
       "version_major": 2,
       "version_minor": 0
      },
      "text/plain": [
       "Sanity Checking: |          | 0/? [00:00<?, ?it/s]"
      ]
     },
     "metadata": {},
     "output_type": "display_data"
    },
    {
     "data": {
      "application/vnd.jupyter.widget-view+json": {
       "model_id": "8d5c9991582c4ba98e68c38e88470a90",
       "version_major": 2,
       "version_minor": 0
      },
      "text/plain": [
       "Training: |          | 0/? [00:00<?, ?it/s]"
      ]
     },
     "metadata": {},
     "output_type": "display_data"
    },
    {
     "name": "stderr",
     "output_type": "stream",
     "text": [
      "GPU available: True (cuda), used: True\n",
      "TPU available: False, using: 0 TPU cores\n",
      "IPU available: False, using: 0 IPUs\n",
      "HPU available: False, using: 0 HPUs\n",
      "LOCAL_RANK: 0 - CUDA_VISIBLE_DEVICES: [0,1,2,3,4,5,6,7]\n",
      "\n",
      "  | Name     | Type               | Params\n",
      "------------------------------------------------\n",
      "0 | accuracy | MulticlassAccuracy | 0     \n",
      "1 | f1_score | MulticlassF1Score  | 0     \n",
      "2 | layers   | Sequential         | 4.0 K \n",
      "------------------------------------------------\n",
      "4.0 K     Trainable params\n",
      "0         Non-trainable params\n",
      "4.0 K     Total params\n",
      "0.016     Total estimated model params size (MB)\n"
     ]
    },
    {
     "name": "stdout",
     "output_type": "stream",
     "text": [
      "{'hidden_dim': 10, 'num_layers': 0, 'last_layer_dim': 8, 'lr': 0.0007764887783374826, 'weight_decay': 0.004282037022524255, 'num_epochs': 50}\n"
     ]
    },
    {
     "data": {
      "application/vnd.jupyter.widget-view+json": {
       "model_id": "ec9f5230db92427a9f608a5a6d0a0c6c",
       "version_major": 2,
       "version_minor": 0
      },
      "text/plain": [
       "Sanity Checking: |          | 0/? [00:00<?, ?it/s]"
      ]
     },
     "metadata": {},
     "output_type": "display_data"
    },
    {
     "data": {
      "application/vnd.jupyter.widget-view+json": {
       "model_id": "8991fb7834b44c34a6f512feca676290",
       "version_major": 2,
       "version_minor": 0
      },
      "text/plain": [
       "Training: |          | 0/? [00:00<?, ?it/s]"
      ]
     },
     "metadata": {},
     "output_type": "display_data"
    },
    {
     "name": "stderr",
     "output_type": "stream",
     "text": [
      "GPU available: True (cuda), used: True\n",
      "TPU available: False, using: 0 TPU cores\n",
      "IPU available: False, using: 0 IPUs\n",
      "HPU available: False, using: 0 HPUs\n",
      "LOCAL_RANK: 0 - CUDA_VISIBLE_DEVICES: [0,1,2,3,4,5,6,7]\n",
      "\n",
      "  | Name     | Type               | Params\n",
      "------------------------------------------------\n",
      "0 | accuracy | MulticlassAccuracy | 0     \n",
      "1 | f1_score | MulticlassF1Score  | 0     \n",
      "2 | layers   | Sequential         | 4.6 K \n",
      "------------------------------------------------\n",
      "4.6 K     Trainable params\n",
      "0         Non-trainable params\n",
      "4.6 K     Total params\n",
      "0.019     Total estimated model params size (MB)\n"
     ]
    },
    {
     "data": {
      "application/vnd.jupyter.widget-view+json": {
       "model_id": "70318b0011f343e797b39f9a27e0b90d",
       "version_major": 2,
       "version_minor": 0
      },
      "text/plain": [
       "Sanity Checking: |          | 0/? [00:00<?, ?it/s]"
      ]
     },
     "metadata": {},
     "output_type": "display_data"
    },
    {
     "data": {
      "application/vnd.jupyter.widget-view+json": {
       "model_id": "da5caf0e9a234942aaa325afb92934b9",
       "version_major": 2,
       "version_minor": 0
      },
      "text/plain": [
       "Training: |          | 0/? [00:00<?, ?it/s]"
      ]
     },
     "metadata": {},
     "output_type": "display_data"
    },
    {
     "name": "stderr",
     "output_type": "stream",
     "text": [
      "GPU available: True (cuda), used: True\n",
      "TPU available: False, using: 0 TPU cores\n",
      "IPU available: False, using: 0 IPUs\n",
      "HPU available: False, using: 0 HPUs\n",
      "LOCAL_RANK: 0 - CUDA_VISIBLE_DEVICES: [0,1,2,3,4,5,6,7]\n",
      "\n",
      "  | Name     | Type               | Params\n",
      "------------------------------------------------\n",
      "0 | accuracy | MulticlassAccuracy | 0     \n",
      "1 | f1_score | MulticlassF1Score  | 0     \n",
      "2 | layers   | Sequential         | 6.3 K \n",
      "------------------------------------------------\n",
      "6.3 K     Trainable params\n",
      "0         Non-trainable params\n",
      "6.3 K     Total params\n",
      "0.025     Total estimated model params size (MB)\n"
     ]
    },
    {
     "name": "stdout",
     "output_type": "stream",
     "text": [
      "{'hidden_dim': 14, 'num_layers': 3, 'last_layer_dim': 10, 'lr': 0.00045128213239371183, 'weight_decay': 0.00019278916258919622, 'num_epochs': 50}\n"
     ]
    },
    {
     "data": {
      "application/vnd.jupyter.widget-view+json": {
       "model_id": "c333f52d747b4a9a9e7301338c0978e3",
       "version_major": 2,
       "version_minor": 0
      },
      "text/plain": [
       "Sanity Checking: |          | 0/? [00:00<?, ?it/s]"
      ]
     },
     "metadata": {},
     "output_type": "display_data"
    },
    {
     "data": {
      "application/vnd.jupyter.widget-view+json": {
       "model_id": "52a5d7312c3d49cfa22e632b1821ad0d",
       "version_major": 2,
       "version_minor": 0
      },
      "text/plain": [
       "Training: |          | 0/? [00:00<?, ?it/s]"
      ]
     },
     "metadata": {},
     "output_type": "display_data"
    },
    {
     "data": {
      "application/vnd.jupyter.widget-view+json": {
       "model_id": "3b4ee3977a5f4fd3b5f79fb3d5f4d79f",
       "version_major": 2,
       "version_minor": 0
      },
      "text/plain": [
       "Validation: |          | 0/? [00:00<?, ?it/s]"
      ]
     },
     "metadata": {},
     "output_type": "display_data"
    },
    {
     "name": "stderr",
     "output_type": "stream",
     "text": [
      "`Trainer.fit` stopped: `max_epochs=1` reached.\n",
      "GPU available: True (cuda), used: True\n",
      "TPU available: False, using: 0 TPU cores\n",
      "IPU available: False, using: 0 IPUs\n",
      "HPU available: False, using: 0 HPUs\n",
      "LOCAL_RANK: 0 - CUDA_VISIBLE_DEVICES: [0,1,2,3,4,5,6,7]\n",
      "\n",
      "  | Name     | Type               | Params\n",
      "------------------------------------------------\n",
      "0 | accuracy | MulticlassAccuracy | 0     \n",
      "1 | f1_score | MulticlassF1Score  | 0     \n",
      "2 | layers   | Sequential         | 7.2 K \n",
      "------------------------------------------------\n",
      "7.2 K     Trainable params\n",
      "0         Non-trainable params\n",
      "7.2 K     Total params\n",
      "0.029     Total estimated model params size (MB)\n"
     ]
    },
    {
     "data": {
      "application/vnd.jupyter.widget-view+json": {
       "model_id": "cbbd92ecd3cd45789c9c4ab34953475c",
       "version_major": 2,
       "version_minor": 0
      },
      "text/plain": [
       "Sanity Checking: |          | 0/? [00:00<?, ?it/s]"
      ]
     },
     "metadata": {},
     "output_type": "display_data"
    },
    {
     "data": {
      "application/vnd.jupyter.widget-view+json": {
       "model_id": "dd8696e767854c91987af632effd0389",
       "version_major": 2,
       "version_minor": 0
      },
      "text/plain": [
       "Training: |          | 0/? [00:00<?, ?it/s]"
      ]
     },
     "metadata": {},
     "output_type": "display_data"
    },
    {
     "name": "stderr",
     "output_type": "stream",
     "text": [
      "GPU available: True (cuda), used: True\n",
      "TPU available: False, using: 0 TPU cores\n",
      "IPU available: False, using: 0 IPUs\n",
      "HPU available: False, using: 0 HPUs\n",
      "LOCAL_RANK: 0 - CUDA_VISIBLE_DEVICES: [0,1,2,3,4,5,6,7]\n",
      "\n",
      "  | Name     | Type               | Params\n",
      "------------------------------------------------\n",
      "0 | accuracy | MulticlassAccuracy | 0     \n",
      "1 | f1_score | MulticlassF1Score  | 0     \n",
      "2 | layers   | Sequential         | 3.0 K \n",
      "------------------------------------------------\n",
      "3.0 K     Trainable params\n",
      "0         Non-trainable params\n",
      "3.0 K     Total params\n",
      "0.012     Total estimated model params size (MB)\n"
     ]
    },
    {
     "name": "stdout",
     "output_type": "stream",
     "text": [
      "{'hidden_dim': 7, 'num_layers': 4, 'last_layer_dim': 4, 'lr': 0.000178171187949859, 'weight_decay': 0.00812293662555309, 'num_epochs': 50}\n"
     ]
    },
    {
     "data": {
      "application/vnd.jupyter.widget-view+json": {
       "model_id": "fc2a562fc2c54980a82042185bfc36f2",
       "version_major": 2,
       "version_minor": 0
      },
      "text/plain": [
       "Sanity Checking: |          | 0/? [00:00<?, ?it/s]"
      ]
     },
     "metadata": {},
     "output_type": "display_data"
    },
    {
     "data": {
      "application/vnd.jupyter.widget-view+json": {
       "model_id": "3f88742bc2a549db81ead7b87e8eca44",
       "version_major": 2,
       "version_minor": 0
      },
      "text/plain": [
       "Training: |          | 0/? [00:00<?, ?it/s]"
      ]
     },
     "metadata": {},
     "output_type": "display_data"
    },
    {
     "data": {
      "application/vnd.jupyter.widget-view+json": {
       "model_id": "8b50df38512c4c08886c39e0a0f65a60",
       "version_major": 2,
       "version_minor": 0
      },
      "text/plain": [
       "Validation: |          | 0/? [00:00<?, ?it/s]"
      ]
     },
     "metadata": {},
     "output_type": "display_data"
    },
    {
     "name": "stderr",
     "output_type": "stream",
     "text": [
      "`Trainer.fit` stopped: `max_epochs=1` reached.\n",
      "GPU available: True (cuda), used: True\n",
      "TPU available: False, using: 0 TPU cores\n",
      "IPU available: False, using: 0 IPUs\n",
      "HPU available: False, using: 0 HPUs\n",
      "LOCAL_RANK: 0 - CUDA_VISIBLE_DEVICES: [0,1,2,3,4,5,6,7]\n",
      "\n",
      "  | Name     | Type               | Params\n",
      "------------------------------------------------\n",
      "0 | accuracy | MulticlassAccuracy | 0     \n",
      "1 | f1_score | MulticlassF1Score  | 0     \n",
      "2 | layers   | Sequential         | 3.5 K \n",
      "------------------------------------------------\n",
      "3.5 K     Trainable params\n",
      "0         Non-trainable params\n",
      "3.5 K     Total params\n",
      "0.014     Total estimated model params size (MB)\n"
     ]
    },
    {
     "data": {
      "application/vnd.jupyter.widget-view+json": {
       "model_id": "624be556408c4ccdad52cd3b41de1259",
       "version_major": 2,
       "version_minor": 0
      },
      "text/plain": [
       "Sanity Checking: |          | 0/? [00:00<?, ?it/s]"
      ]
     },
     "metadata": {},
     "output_type": "display_data"
    },
    {
     "data": {
      "application/vnd.jupyter.widget-view+json": {
       "model_id": "8b639e4f9e0d4f4184607feb95724e89",
       "version_major": 2,
       "version_minor": 0
      },
      "text/plain": [
       "Training: |          | 0/? [00:00<?, ?it/s]"
      ]
     },
     "metadata": {},
     "output_type": "display_data"
    },
    {
     "data": {
      "application/vnd.jupyter.widget-view+json": {
       "model_id": "6c399adf23ce4a1d86683afeccc9e7fc",
       "version_major": 2,
       "version_minor": 0
      },
      "text/plain": [
       "Validation: |          | 0/? [00:00<?, ?it/s]"
      ]
     },
     "metadata": {},
     "output_type": "display_data"
    },
    {
     "name": "stderr",
     "output_type": "stream",
     "text": [
      "`Trainer.fit` stopped: `max_epochs=1` reached.\n",
      "GPU available: True (cuda), used: True\n",
      "TPU available: False, using: 0 TPU cores\n",
      "IPU available: False, using: 0 IPUs\n",
      "HPU available: False, using: 0 HPUs\n",
      "LOCAL_RANK: 0 - CUDA_VISIBLE_DEVICES: [0,1,2,3,4,5,6,7]\n",
      "\n",
      "  | Name     | Type               | Params\n",
      "------------------------------------------------\n",
      "0 | accuracy | MulticlassAccuracy | 0     \n",
      "1 | f1_score | MulticlassF1Score  | 0     \n",
      "2 | layers   | Sequential         | 17.1 K\n",
      "------------------------------------------------\n",
      "17.1 K    Trainable params\n",
      "0         Non-trainable params\n",
      "17.1 K    Total params\n",
      "0.068     Total estimated model params size (MB)\n"
     ]
    },
    {
     "name": "stdout",
     "output_type": "stream",
     "text": [
      "{'hidden_dim': 39, 'num_layers': 1, 'last_layer_dim': 10, 'lr': 0.0005758776939733415, 'weight_decay': 0.005150662632120351, 'num_epochs': 50}\n"
     ]
    },
    {
     "data": {
      "application/vnd.jupyter.widget-view+json": {
       "model_id": "76917bfb56e54e619038447765bcd161",
       "version_major": 2,
       "version_minor": 0
      },
      "text/plain": [
       "Sanity Checking: |          | 0/? [00:00<?, ?it/s]"
      ]
     },
     "metadata": {},
     "output_type": "display_data"
    },
    {
     "data": {
      "application/vnd.jupyter.widget-view+json": {
       "model_id": "5bcb7fac382142eeb74d5db2b9b5e561",
       "version_major": 2,
       "version_minor": 0
      },
      "text/plain": [
       "Training: |          | 0/? [00:00<?, ?it/s]"
      ]
     },
     "metadata": {},
     "output_type": "display_data"
    },
    {
     "data": {
      "application/vnd.jupyter.widget-view+json": {
       "model_id": "dd5c8f0dd40849f1a3ef045db8bde5b7",
       "version_major": 2,
       "version_minor": 0
      },
      "text/plain": [
       "Validation: |          | 0/? [00:00<?, ?it/s]"
      ]
     },
     "metadata": {},
     "output_type": "display_data"
    },
    {
     "name": "stderr",
     "output_type": "stream",
     "text": [
      "`Trainer.fit` stopped: `max_epochs=1` reached.\n",
      "GPU available: True (cuda), used: True\n",
      "TPU available: False, using: 0 TPU cores\n",
      "IPU available: False, using: 0 IPUs\n",
      "HPU available: False, using: 0 HPUs\n",
      "LOCAL_RANK: 0 - CUDA_VISIBLE_DEVICES: [0,1,2,3,4,5,6,7]\n",
      "\n",
      "  | Name     | Type               | Params\n",
      "------------------------------------------------\n",
      "0 | accuracy | MulticlassAccuracy | 0     \n",
      "1 | f1_score | MulticlassF1Score  | 0     \n",
      "2 | layers   | Sequential         | 19.7 K\n",
      "------------------------------------------------\n",
      "19.7 K    Trainable params\n",
      "0         Non-trainable params\n",
      "19.7 K    Total params\n",
      "0.079     Total estimated model params size (MB)\n"
     ]
    },
    {
     "data": {
      "application/vnd.jupyter.widget-view+json": {
       "model_id": "9aab7b5599524b0f9502a0e3fe38f78a",
       "version_major": 2,
       "version_minor": 0
      },
      "text/plain": [
       "Sanity Checking: |          | 0/? [00:00<?, ?it/s]"
      ]
     },
     "metadata": {},
     "output_type": "display_data"
    },
    {
     "data": {
      "application/vnd.jupyter.widget-view+json": {
       "model_id": "d02860bb9a914c248b267bf7ed30a3f0",
       "version_major": 2,
       "version_minor": 0
      },
      "text/plain": [
       "Training: |          | 0/? [00:00<?, ?it/s]"
      ]
     },
     "metadata": {},
     "output_type": "display_data"
    },
    {
     "data": {
      "application/vnd.jupyter.widget-view+json": {
       "model_id": "b36c078640af4ed393e409d29471285b",
       "version_major": 2,
       "version_minor": 0
      },
      "text/plain": [
       "Validation: |          | 0/? [00:00<?, ?it/s]"
      ]
     },
     "metadata": {},
     "output_type": "display_data"
    },
    {
     "name": "stderr",
     "output_type": "stream",
     "text": [
      "`Trainer.fit` stopped: `max_epochs=1` reached.\n",
      "GPU available: True (cuda), used: True\n",
      "TPU available: False, using: 0 TPU cores\n",
      "IPU available: False, using: 0 IPUs\n",
      "HPU available: False, using: 0 HPUs\n",
      "LOCAL_RANK: 0 - CUDA_VISIBLE_DEVICES: [0,1,2,3,4,5,6,7]\n",
      "\n",
      "  | Name     | Type               | Params\n",
      "------------------------------------------------\n",
      "0 | accuracy | MulticlassAccuracy | 0     \n",
      "1 | f1_score | MulticlassF1Score  | 0     \n",
      "2 | layers   | Sequential         | 10.3 K\n",
      "------------------------------------------------\n",
      "10.3 K    Trainable params\n",
      "0         Non-trainable params\n",
      "10.3 K    Total params\n",
      "0.041     Total estimated model params size (MB)\n"
     ]
    },
    {
     "name": "stdout",
     "output_type": "stream",
     "text": [
      "{'hidden_dim': 21, 'num_layers': 4, 'last_layer_dim': 9, 'lr': 0.0003781995617453092, 'weight_decay': 2.487843525689735e-05, 'num_epochs': 50}\n"
     ]
    },
    {
     "data": {
      "application/vnd.jupyter.widget-view+json": {
       "model_id": "3da7ab63645547af9a9f91f56956f355",
       "version_major": 2,
       "version_minor": 0
      },
      "text/plain": [
       "Sanity Checking: |          | 0/? [00:00<?, ?it/s]"
      ]
     },
     "metadata": {},
     "output_type": "display_data"
    },
    {
     "data": {
      "application/vnd.jupyter.widget-view+json": {
       "model_id": "93559f2be0de4852a32d76788b68e08d",
       "version_major": 2,
       "version_minor": 0
      },
      "text/plain": [
       "Training: |          | 0/? [00:00<?, ?it/s]"
      ]
     },
     "metadata": {},
     "output_type": "display_data"
    },
    {
     "data": {
      "application/vnd.jupyter.widget-view+json": {
       "model_id": "262bcff14c5949479317110bf2facd1f",
       "version_major": 2,
       "version_minor": 0
      },
      "text/plain": [
       "Validation: |          | 0/? [00:00<?, ?it/s]"
      ]
     },
     "metadata": {},
     "output_type": "display_data"
    },
    {
     "name": "stderr",
     "output_type": "stream",
     "text": [
      "`Trainer.fit` stopped: `max_epochs=1` reached.\n",
      "GPU available: True (cuda), used: True\n",
      "TPU available: False, using: 0 TPU cores\n",
      "IPU available: False, using: 0 IPUs\n",
      "HPU available: False, using: 0 HPUs\n",
      "LOCAL_RANK: 0 - CUDA_VISIBLE_DEVICES: [0,1,2,3,4,5,6,7]\n",
      "\n",
      "  | Name     | Type               | Params\n",
      "------------------------------------------------\n",
      "0 | accuracy | MulticlassAccuracy | 0     \n",
      "1 | f1_score | MulticlassF1Score  | 0     \n",
      "2 | layers   | Sequential         | 11.7 K\n",
      "------------------------------------------------\n",
      "11.7 K    Trainable params\n",
      "0         Non-trainable params\n",
      "11.7 K    Total params\n",
      "0.047     Total estimated model params size (MB)\n"
     ]
    },
    {
     "data": {
      "application/vnd.jupyter.widget-view+json": {
       "model_id": "058fde8b7aa0401c8516c66a17c41775",
       "version_major": 2,
       "version_minor": 0
      },
      "text/plain": [
       "Sanity Checking: |          | 0/? [00:00<?, ?it/s]"
      ]
     },
     "metadata": {},
     "output_type": "display_data"
    },
    {
     "data": {
      "application/vnd.jupyter.widget-view+json": {
       "model_id": "eb66b8f36fdb410390db22b6d054f895",
       "version_major": 2,
       "version_minor": 0
      },
      "text/plain": [
       "Training: |          | 0/? [00:00<?, ?it/s]"
      ]
     },
     "metadata": {},
     "output_type": "display_data"
    },
    {
     "data": {
      "application/vnd.jupyter.widget-view+json": {
       "model_id": "378a08191ef54c5bba7cf7a59f00884d",
       "version_major": 2,
       "version_minor": 0
      },
      "text/plain": [
       "Validation: |          | 0/? [00:00<?, ?it/s]"
      ]
     },
     "metadata": {},
     "output_type": "display_data"
    },
    {
     "name": "stderr",
     "output_type": "stream",
     "text": [
      "`Trainer.fit` stopped: `max_epochs=1` reached.\n",
      "GPU available: True (cuda), used: True\n",
      "TPU available: False, using: 0 TPU cores\n",
      "IPU available: False, using: 0 IPUs\n",
      "HPU available: False, using: 0 HPUs\n",
      "LOCAL_RANK: 0 - CUDA_VISIBLE_DEVICES: [0,1,2,3,4,5,6,7]\n",
      "\n",
      "  | Name     | Type               | Params\n",
      "------------------------------------------------\n",
      "0 | accuracy | MulticlassAccuracy | 0     \n",
      "1 | f1_score | MulticlassF1Score  | 0     \n",
      "2 | layers   | Sequential         | 4.7 K \n",
      "------------------------------------------------\n",
      "4.7 K     Trainable params\n",
      "0         Non-trainable params\n",
      "4.7 K     Total params\n",
      "0.019     Total estimated model params size (MB)\n"
     ]
    },
    {
     "name": "stdout",
     "output_type": "stream",
     "text": [
      "{'hidden_dim': 12, 'num_layers': 0, 'last_layer_dim': 5, 'lr': 0.0004987792873403385, 'weight_decay': 0.004751129467745437, 'num_epochs': 50}\n"
     ]
    },
    {
     "data": {
      "application/vnd.jupyter.widget-view+json": {
       "model_id": "404d675f05da4335ac0907f7d6d03be0",
       "version_major": 2,
       "version_minor": 0
      },
      "text/plain": [
       "Sanity Checking: |          | 0/? [00:00<?, ?it/s]"
      ]
     },
     "metadata": {},
     "output_type": "display_data"
    },
    {
     "data": {
      "application/vnd.jupyter.widget-view+json": {
       "model_id": "8d7acf44152a407e81d8d4d998c6863b",
       "version_major": 2,
       "version_minor": 0
      },
      "text/plain": [
       "Training: |          | 0/? [00:00<?, ?it/s]"
      ]
     },
     "metadata": {},
     "output_type": "display_data"
    },
    {
     "data": {
      "application/vnd.jupyter.widget-view+json": {
       "model_id": "9b9395aecc5d473e9fae22203df03fcb",
       "version_major": 2,
       "version_minor": 0
      },
      "text/plain": [
       "Validation: |          | 0/? [00:00<?, ?it/s]"
      ]
     },
     "metadata": {},
     "output_type": "display_data"
    },
    {
     "name": "stderr",
     "output_type": "stream",
     "text": [
      "`Trainer.fit` stopped: `max_epochs=1` reached.\n",
      "GPU available: True (cuda), used: True\n",
      "TPU available: False, using: 0 TPU cores\n",
      "IPU available: False, using: 0 IPUs\n",
      "HPU available: False, using: 0 HPUs\n",
      "LOCAL_RANK: 0 - CUDA_VISIBLE_DEVICES: [0,1,2,3,4,5,6,7]\n",
      "\n",
      "  | Name     | Type               | Params\n",
      "------------------------------------------------\n",
      "0 | accuracy | MulticlassAccuracy | 0     \n",
      "1 | f1_score | MulticlassF1Score  | 0     \n",
      "2 | layers   | Sequential         | 5.5 K \n",
      "------------------------------------------------\n",
      "5.5 K     Trainable params\n",
      "0         Non-trainable params\n",
      "5.5 K     Total params\n",
      "0.022     Total estimated model params size (MB)\n"
     ]
    },
    {
     "data": {
      "application/vnd.jupyter.widget-view+json": {
       "model_id": "35f9ab0ad71b433a9af38406b73d9c91",
       "version_major": 2,
       "version_minor": 0
      },
      "text/plain": [
       "Sanity Checking: |          | 0/? [00:00<?, ?it/s]"
      ]
     },
     "metadata": {},
     "output_type": "display_data"
    },
    {
     "data": {
      "application/vnd.jupyter.widget-view+json": {
       "model_id": "ef9e079c0cc04b0898cbe8f88eb1d6b1",
       "version_major": 2,
       "version_minor": 0
      },
      "text/plain": [
       "Training: |          | 0/? [00:00<?, ?it/s]"
      ]
     },
     "metadata": {},
     "output_type": "display_data"
    },
    {
     "data": {
      "application/vnd.jupyter.widget-view+json": {
       "model_id": "433e358fd65d4982bd35ae36b7c6ccb5",
       "version_major": 2,
       "version_minor": 0
      },
      "text/plain": [
       "Validation: |          | 0/? [00:00<?, ?it/s]"
      ]
     },
     "metadata": {},
     "output_type": "display_data"
    },
    {
     "name": "stderr",
     "output_type": "stream",
     "text": [
      "`Trainer.fit` stopped: `max_epochs=1` reached.\n"
     ]
    },
    {
     "ename": "ValueError",
     "evalue": "low >= high",
     "output_type": "error",
     "traceback": [
      "\u001b[0;31m---------------------------------------------------------------------------\u001b[0m",
      "\u001b[0;31mValueError\u001b[0m                                Traceback (most recent call last)",
      "Cell \u001b[0;32mIn[31], line 4\u001b[0m\n\u001b[1;32m      2\u001b[0m hidden_dim \u001b[38;5;241m=\u001b[39m np\u001b[38;5;241m.\u001b[39mrandom\u001b[38;5;241m.\u001b[39mrandint(\u001b[38;5;241m4\u001b[39m, \u001b[38;5;241m40\u001b[39m)\n\u001b[1;32m      3\u001b[0m num_layers \u001b[38;5;241m=\u001b[39m np\u001b[38;5;241m.\u001b[39mrandom\u001b[38;5;241m.\u001b[39mrandint(\u001b[38;5;241m0\u001b[39m, \u001b[38;5;241m5\u001b[39m)\n\u001b[0;32m----> 4\u001b[0m last_layer_dim \u001b[38;5;241m=\u001b[39m \u001b[43mnp\u001b[49m\u001b[38;5;241;43m.\u001b[39;49m\u001b[43mrandom\u001b[49m\u001b[38;5;241;43m.\u001b[39;49m\u001b[43mrandint\u001b[49m\u001b[43m(\u001b[49m\u001b[38;5;241;43m4\u001b[39;49m\u001b[43m,\u001b[49m\u001b[43m \u001b[49m\u001b[43mhidden_dim\u001b[49m\u001b[43m)\u001b[49m\n\u001b[1;32m      5\u001b[0m exp \u001b[38;5;241m=\u001b[39m np\u001b[38;5;241m.\u001b[39mrandom\u001b[38;5;241m.\u001b[39muniform(\u001b[38;5;241m-\u001b[39m\u001b[38;5;241m5\u001b[39m, \u001b[38;5;241m-\u001b[39m\u001b[38;5;241m2\u001b[39m)\n\u001b[1;32m      6\u001b[0m weight_decay \u001b[38;5;241m=\u001b[39m \u001b[38;5;241m10\u001b[39m\u001b[38;5;241m*\u001b[39m\u001b[38;5;241m*\u001b[39mexp\n",
      "File \u001b[0;32mnumpy/random/mtrand.pyx:782\u001b[0m, in \u001b[0;36mnumpy.random.mtrand.RandomState.randint\u001b[0;34m()\u001b[0m\n",
      "File \u001b[0;32mnumpy/random/_bounded_integers.pyx:1334\u001b[0m, in \u001b[0;36mnumpy.random._bounded_integers._rand_int64\u001b[0;34m()\u001b[0m\n",
      "\u001b[0;31mValueError\u001b[0m: low >= high"
     ]
    }
   ],
   "source": [
    "np.random.seed(42)\n",
    "for i in range(10):\n",
    "    hidden_dim = np.random.randint(4, 40)\n",
    "    num_layers = np.random.randint(0, 5)\n",
    "    last_layer_dim = np.random.randint(4, hidden_dim+1)\n",
    "    exp = np.random.uniform(-5, -2)\n",
    "    weight_decay = 10**exp\n",
    "    exp = np.random.uniform(-4, -3)\n",
    "    lr = 10**exp\n",
    "\n",
    "    config = {\n",
    "        \"hidden_dim\": hidden_dim,\n",
    "        \"num_layers\": num_layers,\n",
    "        \"last_layer_dim\": last_layer_dim,\n",
    "        \"lr\": lr,\n",
    "        \"weight_decay\": weight_decay,\n",
    "        \"num_epochs\": 50,\n",
    "    }\n",
    "\n",
    "    print(config)\n",
    "\n",
    "    config_bl = config.copy()\n",
    "    config_bl[\"log_dir\"] = \"./logs/bl/\"\n",
    "    model_bl = train(config_bl, dm_bl)\n",
    "\n",
    "    config_hm = config.copy()\n",
    "    config_hm[\"log_dir\"] = \"./logs/hm/\"\n",
    "    model_hm = train(config_hm, dm_hm)"
   ]
  }
 ],
 "metadata": {
  "kernelspec": {
   "display_name": "thesis",
   "language": "python",
   "name": "python3"
  },
  "language_info": {
   "codemirror_mode": {
    "name": "ipython",
    "version": 3
   },
   "file_extension": ".py",
   "mimetype": "text/x-python",
   "name": "python",
   "nbconvert_exporter": "python",
   "pygments_lexer": "ipython3",
   "version": "3.10.13"
  }
 },
 "nbformat": 4,
 "nbformat_minor": 2
}
