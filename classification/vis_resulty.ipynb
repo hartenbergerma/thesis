{
 "cells": [
  {
   "cell_type": "code",
   "execution_count": 5,
   "metadata": {},
   "outputs": [],
   "source": [
    "import json\n",
    "import sys\n",
    "import os\n",
    "import matplotlib.pyplot as plt\n",
    "import numpy as np\n",
    "\n",
    "sys.path.append(\"../\")\n",
    "from plotting_parameters import *"
   ]
  },
  {
   "cell_type": "code",
   "execution_count": 16,
   "metadata": {},
   "outputs": [],
   "outputs": [],
   "source": [
    "def load_metrics(file):\n",
    "    metrics = []\n",
    "    with open(file, 'r') as f:\n",
    "        results = json.load(f)\n",
    "        metrics.append(results['accuracy'])\n",
    "        metrics.append(results['precision'])\n",
    "        metrics.append(results['recall'])\n",
    "        metrics.append(results['specificity'])\n",
    "        metrics.append(results['f1_score'])\n",
    "        # check if 'roc_auc' is in the results\n",
    "        if 'roc_auc' in results:\n",
    "            metrics.append(results['roc_auc'])\n",
    "        if 'label_counts' in results:\n",
    "            return metrics, results['label_counts']\n",
    "    return metrics\n",
    "\n",
    "def fold_mean_metrics(results_dir):\n",
    "    metrics = []\n",
    "    for i, file in enumerate(['fold1_metrics.json', 'fold2_metrics.json', 'fold3_metrics.json', 'fold4_metrics.json', 'fold5_metrics.json']):     \n",
    "        metrics.append(load_metrics(results_dir+file))\n",
    "    metrics_mean = np.mean(metrics, axis=0)\n",
    "    metrics_std = np.std(metrics, axis=0)\n",
    "    return metrics_mean, metrics_std\n",
    "\n",
    "\n",
    "def knn_metrics(folder):\n",
    "    # iterate through all files in the folder\n",
    "    metrics = []\n",
    "    for file in os.listdir(folder):\n",
    "        if file.endswith('.json'):\n",
    "            img_metrics, img_label_count = load_metrics(os.path.join(folder, file))\n",
    "            # set metrics to nan if class is not present in the image\n",
    "            for i, count in enumerate(img_label_count):\n",
    "                if count == 0:\n",
    "                    for metric in img_metrics:\n",
    "                        metric[i] = np.nan\n",
    "            metrics.append(img_metrics)\n",
    "    metrics_mean = np.nanmean(metrics, axis=0)\n",
    "    metrics_std = np.nanstd(metrics, axis=0)\n",
    "    return metrics_mean, metrics_std\n",
    "            \n",
    "# scores_bl, stds_bl = fold_mean_metrics('./models7/baseline/combined/results')\n",
    "# scores_hm, stds_hm = fold_mean_metrics('./models7/heatmaps/combined/results')\n",
    "\n",
    "# scores_bl, stds_bl = knn_metrics('./models7/baseline/combined/results/knn_metrics')\n",
    "# scores_hm, stds_hm = knn_metrics('./models7/heatmaps/combined/results/knn_metrics')\n",
    "\n",
    "# set_plotting_style(\"latex\")\n",
    "# fig, axs = plt.subplots(1,4, figsize=(5.8,2))\n",
    "# metrics = ['Accuracy', 'Precision', 'Recall', 'Specificity']# 'F1 Score']#, 'ROC AUC']\n",
    "# for i, metric, score_bl, score_hm, std_bl, std_hm in zip(range(4), metrics, scores_bl, scores_hm, stds_bl, stds_hm):\n",
    "#     axs[i].axhline(y=1, color='black', linestyle='--', linewidth=0.5, zorder=1)\n",
    "#     axs[i].errorbar(range(0,12,3), score_bl, yerr=std_bl, fmt='none', ecolor=tum_red_dark, capsize=1.5, zorder=1)\n",
    "#     axs[i].bar(range(0,12,3), score_bl, color=tum_red, label='Baseline all data', zorder=2)\n",
    "#     axs[i].errorbar(range(1,12,3), score_hm, yerr=std_hm, fmt='none', ecolor=tum_green_dark, capsize=1.5, zorder=1)\n",
    "#     axs[i].bar(range(1,12,3), score_hm, color=tum_green, label='Heatmaps all data', zorder=2)\n",
    "#     axs[i].set_xticks([0.5, 3.5, 6.5, 9.5])\n",
    "#     axs[i].set_xticklabels(['NT', 'TT', 'BV', 'BG'])\n",
    "#     axs[i].set_title(metric)\n",
    "#     axs[i].set_yticks([])\n",
    "#     axs[i].set_ylim(0.0,1.16)\n",
    "#     axs[i].set_xlim(-1, 11)\n",
    "#     #add dashed line at y=1\n",
    "#     axs[i].tick_params(axis='x', which='both', bottom=False, top=False,\n",
    "#                left=False, right=False, labelbottom=True, labelleft=True)\n",
    "# axs[0].set_yticks([0.0,0.2,0.4, 0.6, 0.8, 1])\n",
    "# # save figure as svg\n",
    "# plt.tight_layout()\n",
    "# plt.savefig('../../figures/bl_hm_knn_metrics.svg', bbox_inches='tight', format='svg')\n",
    "\n",
    "# import csv\n",
    "# with open('results3.csv', 'w') as f:\n",
    "#     writer = csv.writer(f)\n",
    "#     writer.writerow(['Class', 'NT','NT', 'TT','TT', 'BV','BV', 'BG','BG'])\n",
    "#     writer.writerow(['model', 'BL', 'HM', 'BL', 'HM', 'BL', 'HM', 'BL', 'HM'])\n",
    "#     for metric, score_bl, score_hm in zip(['Accuracy', 'Precision', 'Recall', 'Specificity', 'F1 score', 'AUC ROC'], scores_bl, scores_hm):\n",
    "#         writer.writerow([metric, score_bl[0], score_hm[0], score_bl[1], score_hm[1], score_bl[2], score_hm[2], score_bl[3], score_hm[3]])"
   ]
  },
  {
   "cell_type": "code",
   "execution_count": null,
   "metadata": {},
   "outputs": [],
   "source": [
    "scores_bl, stds_bl = fold_mean_metrics('./models7/baseline/combined/results/')\n",
    "scores_hm, stds_hm = fold_mean_metrics('./models7/heatmaps/combined/results/')\n",
    "scores_hm_only, stds_hm_only = fold_mean_metrics('./models7/heatmap_only/combined/results/')\n",
    "scores_nmc, stds_nmc = fold_mean_metrics('./models_nmc/models/results/')\n",
    "\n",
    "import csv\n",
    "with open('results_std.csv', 'w') as f:\n",
    "    writer = csv.writer(f)\n",
    "    writer.writerow(['Class', 'NT','NT','NT','NT', 'TT','TT', 'TT','TT','BV','BV', 'BV','BV','BG','BG','BG','BG'])\n",
    "    writer.writerow(['model', 'BL', 'HM', 'HMO', 'NMC', 'BL', 'HM', 'HMO', 'NMC', 'BL', 'HM', 'HMO', 'NMC', 'BL', 'HM', 'HMO', 'NMC'])\n",
    "    for metric, score_bl, std_bl, score_hm, std_hm, score_hm_only, std_hm_only, score_nmc, std_nmc in zip(['Accuracy', 'Precision', 'Recall', 'Specificity', 'F1 score'], scores_bl, stds_bl, scores_hm, stds_hm, scores_hm_only, stds_hm_only, scores_nmc, stds_nmc):\n",
    "        writer.writerow([metric, score_bl[0], score_hm[0], score_hm_only[0], score_nmc[0], score_bl[1], score_hm[1], score_hm_only[1], score_nmc[1], score_bl[2], score_hm[2], score_hm_only[2], score_nmc[2], score_bl[3], score_hm[3], score_hm_only[3], score_nmc[3]])\n",
    "        writer.writerow([metric + 'std', std_bl[0], std_hm[0], std_hm_only[0], std_nmc[0], std_bl[1], std_hm[1], std_hm_only[1], std_nmc[1], std_bl[2], std_hm[2], std_hm_only[2], std_nmc[2], std_bl[3], std_hm[3], std_hm_only[3], std_nmc[3]])"
   ]
  },
  {
   "cell_type": "code",
   "execution_count": 8,
   "metadata": {},
   "outputs": [
    {
     "data": {
      "image/png": "[encoded data removed]",
      "text/plain": [
       "<Figure size 580x170 with 4 Axes>"
      ]
     },
     "metadata": {},
     "output_type": "display_data"
    }
   ],
   "source": [
    "scores_bl, stds_bl = fold_mean_metrics('./models7/baseline/v1_1/results')\n",
    "scores_hm, stds_hm = fold_mean_metrics('./models7/heatmaps/v1_1/results')\n",
    "scores_ohm, stds_ohm = fold_mean_metrics('./models7/heatmap_only/v1_1/results')\n",
    "\n",
    "scores_bl, stds_bl = knn_metrics('./models7/baseline/combined/results/knn_metrics')\n",
    "scores_hm, stds_hm = knn_metrics('./models7/heatmaps/combined/results/knn_metrics')\n",
    "scores_ohm, stds_ohm = knn_metrics('./models7/heatmap_only/combined/results/knn_metrics')\n",
    "\n",
    "\n",
    "\n",
    "set_plotting_style(\"latex\")\n",
    "fig, axs = plt.subplots(1,4, figsize=(5.8,1.7))\n",
    "metrics = ['Accuracy', 'Precision', 'Recall', 'Specificity']# 'F1 Score']#, 'ROC AUC']\n",
    "for i, metric, score_bl, score_hm, score_ohm, std_bl, std_hm, std_ohm  in zip(range(4), metrics, scores_bl, scores_hm, scores_ohm, stds_bl, stds_hm, stds_ohm):\n",
    "    axs[i].axhline(y=1, color='black', linestyle='--', linewidth=0.5, zorder=1)\n",
    "    # axs[i].errorbar(range(0,16,4), score_bl, yerr=std_bl, fmt='none', ecolor=tum_grey_3, capsize=1.5, zorder=1)\n",
    "    axs[i].bar(range(0,16,4), score_bl, color=tum_pink, label='Baseline all data', zorder=2)\n",
    "    # axs[i].errorbar(range(1,16,4), score_hm, yerr=std_hm, fmt='none', ecolor=tum_blue_dark, capsize=1.5, zorder=1)\n",
    "    axs[i].bar(range(1,16,4), score_hm, color=tum_grey_1, label='Heatmaps all data', zorder=2)\n",
    "    # axs[i].errorbar(range(2,16,4), score_ohm, yerr=std_ohm, fmt='none', ecolor=tum_blue_light, capsize=1.5, zorder=1)\n",
    "    axs[i].bar(range(2,16,4), score_ohm, color=tum_orange, label='Heatmaps only', zorder=2)\n",
    "    axs[i].set_xticks([1, 5, 9, 13])\n",
    "    axs[i].set_xticklabels(['NT', 'TT', 'BV', 'BG'])\n",
    "    axs[i].set_title(metric)\n",
    "    # axs[i].set_yticks([])\n",
    "    # axs[i].set_ylim(0.0,1.16)\n",
    "    axs[i].set_xlim(-1, 15)\n",
    "    #add dashed line at y=1\n",
    "    axs[i].tick_params(axis='x', which='both', bottom=False, top=False,\n",
    "               left=False, right=False, labelbottom=True, labelleft=True)\n",
    "\n",
    "\n",
    "axs[0].set_ylim(0.8,1)\n",
    "axs[1].set_ylim(0.1,1)\n",
    "axs[2].set_ylim(0.1,1)\n",
    "axs[3].set_ylim(0.8,1)\n",
    "\n",
    "plt.tight_layout()\n",
    "\n",
    "plt.savefig('../../poster/models_metrics_small.svg', bbox_inches='tight', format='svg')"
   ]
  },
  {
   "cell_type": "code",
   "execution_count": 35,
   "metadata": {},
   "outputs": [
    {
     "data": {
      "image/png": "[encoded data removed]",
      "text/plain": [
       "<Figure size 550x200 with 4 Axes>"
      ]
     },
     "metadata": {},
     "output_type": "display_data"
    }
   ],
   "source": [
    "scores_bl, stds_bl = fold_mean_metrics('./models7/baseline/v1_1/results')\n",
    "scores_hm, stds_hm = fold_mean_metrics('./models7/heatmaps/v1_1/results')\n",
    "scores_ohm, stds_ohm = fold_mean_metrics('./models7/heatmap_only/v1_1/results')\n",
    "\n",
    "scores_bl, stds_bl = knn_metrics('./models7/baseline/combined/results/knn_metrics')\n",
    "scores_hm, stds_hm = knn_metrics('./models7/heatmaps/combined/results/knn_metrics')\n",
    "scores_ohm, stds_ohm = knn_metrics('./models7/heatmap_only/combined/results/knn_metrics')\n",
    "\n",
    "\n",
    "\n",
    "set_plotting_style(\"latex\")\n",
    "fig, axs = plt.subplots(1,4, figsize=(5.5,2))\n",
    "metrics = ['Accuracy', 'Precision', 'Recall', 'Specificity']# 'F1 Score']#, 'ROC AUC']\n",
    "for i, metric, score_bl, score_hm, score_ohm, std_bl, std_hm, std_ohm  in zip(range(4), metrics, scores_bl, scores_hm, scores_ohm, stds_bl, stds_hm, stds_ohm):\n",
    "    axs[i].axhline(y=1, color='black', linestyle='--', linewidth=0.5, zorder=1)\n",
    "    axs[i].bar(0, np.mean(score_bl), color=tum_pink, label='Baseline all data', zorder=2, width=0.7)\n",
    "    axs[i].bar(1, np.mean(score_hm), color=tum_grey_1, label='Heatmaps all data', zorder=2, width=0.7)\n",
    "    axs[i].bar(2, np.mean(score_ohm), color=tum_orange, label='Heatmaps only', zorder=2, width=0.7)\n",
    "    axs[i].set_xticks([0, 1, 2,])\n",
    "    axs[i].set_xticklabels(['BL','HM', 'HMO'])\n",
    "    axs[i].set_title(metric)\n",
    "    # axs[i].set_yticks([])\n",
    "    # axs[i].set_ylim(0.0,1.16)\n",
    "    axs[i].set_xlim(-0.65, 2.65)\n",
    "    #add dashed line at y=1\n",
    "    axs[i].tick_params(axis='x', which='both', bottom=False, top=False,\n",
    "               left=False, right=False, labelbottom=True, labelleft=True)\n",
    "\n",
    "\n",
    "axs[0].set_ylim(0.85,1)\n",
    "axs[1].set_ylim(0.5,1)\n",
    "axs[2].set_ylim(0.5,1)\n",
    "axs[3].set_ylim(0.85,1)\n",
    "\n",
    "plt.tight_layout()\n",
    "\n",
    "plt.savefig('../../poster/models_metrics_reduced_small.svg', bbox_inches='tight', format='svg')"
   ]
  },
  {
   "cell_type": "markdown",
   "metadata": {},
   "source": [
    "Plot and save metrics for three models"
   ]
  },
  {
   "cell_type": "code",
   "execution_count": 9,
   "metadata": {},
   "outputs": [
    {
     "data": {
      "image/png": "[encoded data removed]",
      "text/plain": [
       "<Figure size 580x200 with 4 Axes>"
      ]
     },
     "metadata": {},
     "output_type": "display_data"
    }
   ],
   "source": [
    "def load_metrics(file):\n",
    "    metrics = []\n",
    "    with open(file, 'r') as f:\n",
    "        results = json.load(f)\n",
    "        metrics.append(results['accuracy'])\n",
    "        metrics.append(results['precision'])\n",
    "        metrics.append(results['recall'])\n",
    "        metrics.append(results['specificity'])\n",
    "        metrics.append(results['f1_score'])\n",
    "        # check if 'roc_auc' is in the results\n",
    "        if 'roc_auc' in results:\n",
    "            metrics.append(results['roc_auc'])\n",
    "        if 'label_counts' in results:\n",
    "            return metrics, results['label_counts']\n",
    "    return metrics\n",
    "\n",
    "def fold_mean_metrics(results_dir):\n",
    "    metrics = []\n",
    "    for i, file in enumerate(['fold1_metrics.json', 'fold2_metrics.json', 'fold3_metrics.json', 'fold4_metrics.json', 'fold5_metrics.json']):\n",
    "        metrics.append(load_metrics(os.path.join(results_dir, file)))\n",
    "    metrics_mean = np.mean(metrics, axis=0)\n",
    "    metrics_std = np.std(metrics, axis=0)\n",
    "    return metrics_mean, metrics_std\n",
    "\n",
    "\n",
    "def knn_metrics(folder):\n",
    "    # iterate through all files in the folder\n",
    "    metrics = []\n",
    "    for file in os.listdir(folder):\n",
    "        if file.endswith('.json'):\n",
    "            img_metrics, img_label_count = load_metrics(os.path.join(folder, file))\n",
    "            # set metrics to nan if class is not present in the image\n",
    "            for i, count in enumerate(img_label_count):\n",
    "                if count == 0:\n",
    "                    for metric in img_metrics:\n",
    "                        metric[i] = np.nan\n",
    "            metrics.append(img_metrics)\n",
    "    metrics_mean = np.nanmean(metrics, axis=0)\n",
    "    metrics_std = np.nanstd(metrics, axis=0)\n",
    "    return metrics_mean, metrics_std\n",
    "\n",
    "scores_bl, stds_bl = fold_mean_metrics('./models7/baseline/v1_1/results')\n",
    "scores_hm, stds_hm = fold_mean_metrics('./models7/heatmaps/v1_1/results')\n",
    "scores_ohm, stds_ohm = fold_mean_metrics('./models7/heatmap_only/v1_1/results')\n",
    "\n",
    "scores_bl, stds_bl = knn_metrics('./models7/baseline/combined/results/knn_metrics')\n",
    "scores_hm, stds_hm = knn_metrics('./models7/heatmaps/combined/results/knn_metrics')\n",
    "scores_ohm, stds_ohm = knn_metrics('./models7/heatmap_only/combined/results/knn_metrics')\n",
    "\n",
    "\n",
    "\n",
    "set_plotting_style(\"latex\")\n",
    "fig, axs = plt.subplots(1,4, figsize=(5.8,2))\n",
    "metrics = ['Accuracy', 'Precision', 'Recall', 'Specificity']# 'F1 Score']#, 'ROC AUC']\n",
    "for i, metric, score_bl, score_hm, score_ohm, std_bl, std_hm, std_ohm  in zip(range(4), metrics, scores_bl, scores_hm, scores_ohm, stds_bl, stds_hm, stds_ohm):\n",
    "    axs[i].axhline(y=1, color='black', linestyle='--', linewidth=0.5, zorder=1)\n",
    "    axs[i].errorbar(range(0,16,4), score_bl, yerr=std_bl, fmt='none', ecolor=tum_grey_3, capsize=1.5, zorder=1)\n",
    "    axs[i].bar(range(0,16,4), score_bl, color=tum_grey_3, label='Baseline all data', zorder=2)\n",
    "    axs[i].errorbar(range(1,16,4), score_hm, yerr=std_hm, fmt='none', ecolor=tum_blue_dark, capsize=1.5, zorder=1)\n",
    "    axs[i].bar(range(1,16,4), score_hm, color=tum_blue_dark, label='Heatmaps all data', zorder=2)\n",
    "    axs[i].errorbar(range(2,16,4), score_ohm, yerr=std_ohm, fmt='none', ecolor=tum_blue_light, capsize=1.5, zorder=1)\n",
    "    axs[i].bar(range(2,16,4), score_ohm, color=tum_blue_light, label='Heatmaps only', zorder=2)\n",
    "    axs[i].set_xticks([1, 5, 9, 13])\n",
    "    axs[i].set_xticklabels(['NT', 'TT', 'BV', 'BG'])\n",
    "    axs[i].set_title(metric)\n",
    "    axs[i].set_yticks([])\n",
    "    axs[i].set_ylim(0.0,1.16)\n",
    "    axs[i].set_xlim(-1, 15)\n",
    "    #add dashed line at y=1\n",
    "    axs[i].tick_params(axis='x', which='both', bottom=False, top=False,\n",
    "               left=False, right=False, labelbottom=True, labelleft=True)\n",
    "axs[0].set_yticks([0.0,0.2,0.4, 0.6, 0.8, 1])\n",
    "# save figure as svg\n",
    "plt.tight_layout()\n",
    "# plt.savefig('results.svg')\n",
    "\n",
    "import csv\n",
    "with open('results2.csv', 'w') as f:\n",
    "    writer = csv.writer(f)\n",
    "    writer.writerow(['Class', 'NT','NT','NT', 'TT','TT','TT', 'BV','BV','BV', 'BG','BG','BG'])\n",
    "    writer.writerow(['model', 'BL', 'HM','OHM', 'BL', 'HM','OHM', 'BL', 'HM','OHM', 'BL', 'HM','OHM',])\n",
    "    for metric, score_bl, score_hm, score_ohm in zip(['Accuracy', 'Precision', 'Recall', 'Specificity', 'F1 score', 'AUC ROC'], scores_bl, scores_hm, scores_ohm):\n",
    "        writer.writerow([metric, score_bl[0], score_hm[0], score_ohm[0], score_bl[1], score_hm[1], score_ohm[1], score_bl[2], score_hm[2], score_ohm[2], score_bl[3], score_hm[3], score_ohm[3]])"
   ]
  },
  {
   "cell_type": "markdown",
   "metadata": {},
   "source": [
    "Plot mean first layer weights for baseline models"
   ]
  },
  {
   "cell_type": "code",
   "execution_count": 8,
   "metadata": {},
   "outputs": [
    {
     "data": {
      "image/png": "[encoded data removed]",
      "text/plain": [
       "<Figure size 580x250 with 1 Axes>"
      ]
     },
     "metadata": {},
     "output_type": "display_data"
    }
   ],
   "source": [
    "from model import ClassificationModel\n",
    "from torch import nn\n",
    "\n",
    "log_folder = 'logs7/bl/my_model/'\n",
    "\n",
    "models_weights = []\n",
    "for model_version in os.listdir(log_folder):\n",
    "    # open chechpoint file stored under model_version/checkpoints\n",
    "    checkpoint_filename = os.listdir(os.path.join(log_folder, model_version, 'checkpoints'))[0]\n",
    "    # print(checkpoint_filename)\n",
    "    \n",
    "    model = ClassificationModel.load_from_checkpoint(os.path.join(log_folder, model_version, 'checkpoints', checkpoint_filename))\n",
    "\n",
    "    weights = model.layers[1].weight.detach().cpu().numpy()\n",
    "    mean_weights = np.mean(np.abs(weights), axis=0)\n",
    "    models_weights.append(mean_weights)\n",
    "weights_mean = np.mean(models_weights, axis=0)\n",
    "weights_std = np.std(models_weights, axis=0)\n",
    "\n",
    "set_plotting_style(\"latex\")\n",
    "\n",
    "fig, ax = plt.subplots(1,1,figsize=(5.8,2.5))\n",
    "# plt.errorbar(np.arange(0, weights_mean.shape[0]), weights_mean, yerr=weights_std)\n",
    "ax.bar(np.arange(1, weights_mean.shape[0]+1), weights_mean, color=tum_blue_brand)\n",
    "ax.set_xlabel(\"Input features\")\n",
    "ax.set_ylabel(\"Mean frist layer weight magnitude\")\n",
    "ax.set_ylim(0.015,0.032)\n",
    "ax.set_xlim(0, weights_mean.shape[0]+1)\n",
    "fig.tight_layout()\n",
    "fig.savefig('../../figures/bl_models_weights.svg', bbox_inches='tight', format='svg')\n"
   ]
  },
  {
   "cell_type": "markdown",
   "metadata": {},
   "source": [
    "Plot mean first layer weights for hm models"
   ]
  },
  {
   "cell_type": "code",
   "execution_count": null,
   "metadata": {},
   "outputs": [
    {
     "ename": "NameError",
     "evalue": "name 'os' is not defined",
     "output_type": "error",
     "traceback": [
      "\u001b[1;31m---------------------------------------------------------------------------\u001b[0m",
      "\u001b[1;31mNameError\u001b[0m                                 Traceback (most recent call last)",
      "Cell \u001b[1;32mIn[1], line 8\u001b[0m\n\u001b[0;32m      5\u001b[0m log_folder \u001b[38;5;241m=\u001b[39m \u001b[38;5;124m'\u001b[39m\u001b[38;5;124mlogs7/hm/my_model/\u001b[39m\u001b[38;5;124m'\u001b[39m\n\u001b[0;32m      7\u001b[0m models_weights \u001b[38;5;241m=\u001b[39m []\n\u001b[1;32m----> 8\u001b[0m \u001b[38;5;28;01mfor\u001b[39;00m model_version \u001b[38;5;129;01min\u001b[39;00m \u001b[43mos\u001b[49m\u001b[38;5;241m.\u001b[39mlistdir(log_folder):\n\u001b[0;32m      9\u001b[0m     \u001b[38;5;66;03m# open chechpoint file stored under model_version/checkpoints\u001b[39;00m\n\u001b[0;32m     10\u001b[0m     checkpoint_filename \u001b[38;5;241m=\u001b[39m os\u001b[38;5;241m.\u001b[39mlistdir(os\u001b[38;5;241m.\u001b[39mpath\u001b[38;5;241m.\u001b[39mjoin(log_folder, model_version, \u001b[38;5;124m'\u001b[39m\u001b[38;5;124mcheckpoints\u001b[39m\u001b[38;5;124m'\u001b[39m))[\u001b[38;5;241m0\u001b[39m]\n\u001b[0;32m     11\u001b[0m     \u001b[38;5;66;03m# print(checkpoint_filename)\u001b[39;00m\n",
      "\u001b[1;31mNameError\u001b[0m: name 'os' is not defined"
     ]
    }
   ],
   "source": [
    "from model import ClassificationModel\n",
    "from torch import nn\n",
    "\n",
    "log_folder = 'logs7/hm/my_model/'\n",
    "\n",
    "models_weights = []\n",
    "for model_version in os.listdir(log_folder):\n",
    "    # open chechpoint file stored under model_version/checkpoints\n",
    "    checkpoint_filename = os.listdir(os.path.join(log_folder, model_version, 'checkpoints'))[0]\n",
    "    # print(checkpoint_filename)\n",
    "    \n",
    "    model = ClassificationModel.load_from_checkpoint(os.path.join(log_folder, model_version, 'checkpoints', checkpoint_filename))\n",
    "\n",
    "    weights = model.layers[1].weight.detach().cpu().numpy()\n",
    "    mean_weights = np.mean(np.abs(weights), axis=0)\n",
    "    models_weights.append(mean_weights)\n",
    "weights_mean = np.mean(models_weights, axis=0)\n",
    "weights_std = np.std(models_weights, axis=0)\n",
    "\n",
    "\n",
    "set_plotting_style(\"latex\")\n",
    "\n",
    "fig, ax = plt.subplots(1,1,figsize=(5.8,2.5))\n",
    "# plt.errorbar(np.arange(0, weights_mean.shape[0]), weights_mean, yerr=weights_std)\n",
    "ax.bar(np.arange(1, weights_mean.shape[0]+1), weights_mean, color=tum_blue_brand)\n",
    "ax.vlines(380.5, 0.015, 0.04, color='k', linestyles=\"dashed\")\n",
    "ax.text(190, 0.0365, 'Spectral Inputs', ha='center', va='bottom')\n",
    "ax.text(380+33, 0.0365, 'Heatmap\\n Inputs', ha='center', va='bottom')\n",
    "ax.set_xlabel(\"Input features\")\n",
    "ax.set_ylabel(\"Mean frist layer weight magnitude\")\n",
    "ax.set_ylim(0.015,0.04)\n",
    "ax.set_xlim(0, weights_mean.shape[0]+1)\n",
    "fig.tight_layout()\n",
    "fig.savefig('../../figures/hm_models_weights.svg', bbox_inches='tight', format='svg')\n",
    "\n",
    "fig, ax = plt.subplots(1,1,figsize=(5.8,2.5))\n",
    "ax.bar(np.arange(381,392), weights_mean[-66:-55], color=tum_grey_1)\n",
    "ax.plot(np.arange(381,392), np.repeat(np.mean(weights_mean[-66:-55]),11), color=tum_grey_1, linestyle=':')\n",
    "ax.bar(np.arange(392,403), weights_mean[-55:-44], color=tum_grey_3)\n",
    "ax.plot(np.arange(392,403), np.repeat(np.mean(weights_mean[-55:-44]),11), color=tum_grey_3, linestyle=':')\n",
    "ax.bar(np.arange(403,414), weights_mean[-44:-33], color=tum_grey_5)\n",
    "ax.plot(np.arange(403,414), np.repeat(np.mean(weights_mean[-44:-33]),11), color=tum_grey_5, linestyle=':')\n",
    "ax.bar(np.arange(414,425), weights_mean[-33:-22], color=tum_blue_dark)\n",
    "ax.plot(np.arange(414,425), np.repeat(np.mean(weights_mean[-33:-22]),11), color=tum_blue_dark, linestyle=':')\n",
    "ax.bar(np.arange(425,436), weights_mean[-22:-11], color=tum_blue_dark_2)\n",
    "ax.plot(np.arange(425,436), np.repeat(np.mean(weights_mean[-22:-11]),11), color=tum_blue_dark_2, linestyle=':')\n",
    "ax.bar(np.arange(436,447), weights_mean[-11:], color=tum_blue_brand)\n",
    "ax.plot(np.arange(436,447), np.repeat(np.mean(weights_mean[-11:]),11), color=tum_blue_brand, linestyle=':')\n",
    "ax.set_xlabel(\"Input features\")\n",
    "ax.set_ylabel(\"Mean first layer weight magnitude\")\n",
    "ax.set_ylim(0.015,0.04)\n",
    "ax.set_xlim(380, 447)\n",
    "fig.tight_layout()\n",
    "fig.savefig('../../figures/hm_models_weights_zoomed.svg', bbox_inches='tight', format='svg')\n",
    "\n",
    "\n",
    "fig, ax = plt.subplots(1,1,figsize=(4.8,2.5))\n",
    "hm_list = [weights_mean[-66:-55], weights_mean[-55:-44], weights_mean[-44:-33], weights_mean[-33:-22], weights_mean[-22:-11], weights_mean[-11:]]\n",
    "hm_endmember_mean = np.mean(hm_list, axis=0)\n",
    "ax.bar(np.arange(11), hm_endmember_mean, color=tum_blue_brand, width=0.5)\n",
    "ax.set_ylim(0.02,0.032)\n",
    "ax.set_xlim(-0.5, 10.5)\n",
    "ax.set_xticks(range(11))\n",
    "ax.set_xticklabels([\"oxCytc\", \"redCytc\", \"oxCytb\", \"redCytb\", \"oxCCO\", \"redCCO\", \"HHb\", \"HbO$_2$\", \"water\", \"lipids\", \"a'\"], rotation=45)\n",
    "ax.set_ylabel(\"Mean frist layer weight magnitude\")\n",
    "fig.tight_layout()\n",
    "fig.savefig('../../figures/hm_models_weights_endmembers.svg', bbox_inches='tight', format='svg')"
   ]
  },
  {
   "cell_type": "code",
   "execution_count": 131,
   "metadata": {},
   "outputs": [
    {
     "name": "stdout",
     "output_type": "stream",
     "text": [
      "(447,)\n"
     ]
    },
    {
     "data": {
      "image/png": "[encoded data removed]",
      "text/plain": [
       "<Figure size 580x150 with 1 Axes>"
      ]
     },
     "metadata": {},
     "output_type": "display_data"
    },
    {
     "data": {
      "image/png": "[encoded data removed]",
      "text/plain": [
       "<Figure size 640x150 with 6 Axes>"
      ]
     },
     "metadata": {},
     "output_type": "display_data"
    },
    {
     "data": {
      "image/png": "[encoded data removed]",
      "text/plain": [
       "<Figure size 720x100 with 1 Axes>"
      ]
     },
     "metadata": {},
     "output_type": "display_data"
    }
   ],
   "source": [
    "from model import ClassificationModel\n",
    "from torch import nn\n",
    "import matplotlib.ticker as ticker\n",
    "import matplotlib as mpl\n",
    "\n",
    "log_folder = 'logs7/hm/my_model/'\n",
    "\n",
    "models_weights = []\n",
    "for model_version in os.listdir(log_folder):\n",
    "    # open chechpoint file stored under model_version/checkpoints\n",
    "    checkpoint_filename = os.listdir(os.path.join(log_folder, model_version, 'checkpoints'))[0]\n",
    "    # print(checkpoint_filename)\n",
    "    \n",
    "    model = ClassificationModel.load_from_checkpoint(os.path.join(log_folder, model_version, 'checkpoints', checkpoint_filename))\n",
    "\n",
    "    weights = model.layers[1].weight.detach().cpu().numpy()\n",
    "    mean_weights = np.mean(np.abs(weights), axis=0)\n",
    "    models_weights.append(mean_weights)\n",
    "weights_mean = np.mean(models_weights, axis=0)\n",
    "weights_std = np.std(models_weights, axis=0)\n",
    "\n",
    "\n",
    "set_plotting_style(\"latex\")\n",
    "\n",
    "fig, ax = plt.subplots(1,1,figsize=(5.8,1.5))\n",
    "# plt.errorbar(np.arange(0, weights_mean.shape[0]), weights_mean, yerr=weights_std)\n",
    "ax.bar(np.arange(1, weights_mean.shape[0]+1), weights_mean, color=tum_blue_brand)\n",
    "ax.vlines(380.5, 0.015, 0.04, color='k', linestyles=\"dashed\")\n",
    "ax.text(190, 0.033, 'Spectral Inputs', ha='center', va='bottom')\n",
    "ax.text(380+35, 0.033, 'Heatmap\\n Inputs', ha='center', va='bottom')\n",
    "ax.set_xlabel(\"Input features\")\n",
    "ax.set_ylabel(\"Mean first layer weight\\nmagnitude ($\\\\times 10^{-2}$)\")\n",
    "ax.yaxis.set_major_formatter(ticker.FuncFormatter(lambda x, _: f'{x * 100:.1f}'))\n",
    "ax.set_ylim(0.015,0.04)\n",
    "ax.set_xlim(0, weights_mean.shape[0]+1)\n",
    "fig.tight_layout()\n",
    "fig.savefig('../../figures/classification/hm_mean_model_weights.svg', bbox_inches='tight', format='svg')\n",
    "\n",
    "mpl.rcParams['hatch.linewidth'] = 0.2\n",
    "hm_types = [\"OSP\\n(absolute)\", \"OSP\\n(differential)\", \"OSP with MC\\n(differential)\", \"ICEM\\n(absolute)\", \"ICEM\\n(differential)\", \"ICEM with MC\\n(differential)\"]\n",
    "hm_hatches = ['//////', '//////', '\\\\\\\\\\\\\\\\\\\\\\\\', '\\\\\\\\\\\\\\\\\\\\\\\\', '', '', '', '', '', '', '']\n",
    "# repeated_hm_hatches = [item for item in hm_hatches for _ in range(11)]\n",
    "cyt_colors = ['#c680bb', '#b6ce55', '#c680bb', '#b6ce55', tum_pink, tum_green, tum_red, tum_blue_dark, tum_blue_light, tum_yellow, '#000000']\n",
    "endmembers = [\"oxCytc\", \"redCytc\", \"oxCytb\", \"redCytb\", \"oxCCO\", \"redCCO\", \"HHb\", \"HbO$_2$\", \"water\", \"lipids\", \"a'\"]\n",
    "# fig, ax = plt.subplots(1,1,figsize=(5.8,1.5))\n",
    "feature_idx = 381\n",
    "weight_idx = -66\n",
    "fig, axs = plt.subplots(1,6,figsize=(6.4,1.5))\n",
    "print(weights_mean.shape)\n",
    "for i in range(6):\n",
    "    if i != 0:\n",
    "        axs[i].set_yticks([])\n",
    "    if i == 5:\n",
    "        weights = weights_mean[-11:]\n",
    "    else:\n",
    "        weights = weights_mean[weight_idx:weight_idx+11]\n",
    "    bars = axs[i].bar(np.arange(feature_idx,feature_idx+11), weights, color=cyt_colors, hatch=hm_hatches)\n",
    "    axs[i].set_xlim(feature_idx-1+0.1,feature_idx+11-0.1)\n",
    "    axs[i].set_ylim(0.015,0.04)\n",
    "    axs[i].set_title(hm_types[i], fontsize = \"medium\")\n",
    "    axs[i].yaxis.set_major_formatter(ticker.FuncFormatter(lambda x, _: f'{x * 100:.1f}'))\n",
    "    feature_idx = feature_idx + 11\n",
    "    weight_idx = weight_idx + 11\n",
    "\n",
    "plt.subplots_adjust(wspace=0.05, bottom=0.24)\n",
    "fig.supxlabel(\"Input features\", fontsize='medium')\n",
    "axs[0].set_ylabel(\"Mean first layer weight\\nmagnitude ($\\\\times 10^{-2}$)\")\n",
    "fig.legend(bars, endmembers, loc='lower center', bbox_to_anchor=(0.512, -0.26), ncol=6, fontsize='small')\n",
    "# fig.tight_layout()\n",
    "fig.savefig('../../figures/classification/hm_mean_model_weights_zoomed.svg', bbox_inches='tight', format='svg')\n",
    "plot_ref_full()"
   ]
  },
  {
   "cell_type": "markdown",
   "metadata": {},
   "source": [
    "Plot mean weights for hm_only model"
   ]
  },
  {
   "cell_type": "code",
   "execution_count": 6,
   "metadata": {},
   "outputs": [
    {
     "name": "stdout",
     "output_type": "stream",
     "text": [
      "[0.05171128 0.05274765 0.05071883 0.04935689 0.05496708 0.05718104\n",
      " 0.05023234 0.0521085  0.05267569 0.0491478  0.05243107]\n"
     ]
    },
    {
     "data": {
      "image/png": "[encoded data removed]",
      "text/plain": [
       "<Figure size 580x250 with 1 Axes>"
      ]
     },
     "metadata": {},
     "output_type": "display_data"
    },
    {
     "data": {
      "image/png": "[encoded data removed]",
      "text/plain": [
       "<Figure size 480x250 with 1 Axes>"
      ]
     },
     "metadata": {},
     "output_type": "display_data"
    }
   ],
   "source": [
    "from model import ClassificationModel\n",
    "from torch import nn\n",
    "\n",
    "log_folder = 'logs7/hm_only/my_model/'\n",
    "\n",
    "models_weights = []\n",
    "for model_version in os.listdir(log_folder):\n",
    "    # open chechpoint file stored under model_version/checkpoints\n",
    "    checkpoint_filename = os.listdir(os.path.join(log_folder, model_version, 'checkpoints'))[0]\n",
    "    # print(checkpoint_filename)\n",
    "    \n",
    "    model = ClassificationModel.load_from_checkpoint(os.path.join(log_folder, model_version, 'checkpoints', checkpoint_filename))\n",
    "\n",
    "    weights = model.layers[1].weight.detach().cpu().numpy()\n",
    "    mean_weights = np.mean(np.abs(weights), axis=0)\n",
    "    models_weights.append(mean_weights)\n",
    "weights_mean = np.mean(models_weights, axis=0)\n",
    "weights_std = np.std(models_weights, axis=0)\n",
    "\n",
    "\n",
    "set_plotting_style(\"latex\")\n",
    "\n",
    "fig, ax = plt.subplots(1,1,figsize=(5.8,2.5))\n",
    "ax.bar(np.arange(1,12), weights_mean[-66:-55], color=tum_grey_1)\n",
    "ax.plot(np.arange(1,12), np.repeat(np.mean(weights_mean[-66:-55]),11), color=tum_grey_1, linestyle=':')\n",
    "ax.bar(np.arange(12,23), weights_mean[-55:-44], color=tum_grey_3)\n",
    "ax.plot(np.arange(12,23), np.repeat(np.mean(weights_mean[-55:-44]),11), color=tum_grey_3, linestyle=':')\n",
    "ax.bar(np.arange(23,34), weights_mean[-44:-33], color=tum_grey_5)\n",
    "ax.plot(np.arange(23,34), np.repeat(np.mean(weights_mean[-44:-33]),11), color=tum_grey_5, linestyle=':')\n",
    "ax.bar(np.arange(34,45), weights_mean[-33:-22], color=tum_blue_dark)\n",
    "ax.plot(np.arange(34,45), np.repeat(np.mean(weights_mean[-33:-22]),11), color=tum_blue_dark, linestyle=':')\n",
    "ax.bar(np.arange(45,56), weights_mean[-22:-11], color=tum_blue_dark_2)\n",
    "ax.plot(np.arange(45,56), np.repeat(np.mean(weights_mean[-22:-11]),11), color=tum_blue_dark_2, linestyle=':')\n",
    "ax.bar(np.arange(56,67), weights_mean[-11:], color=tum_blue_brand)\n",
    "ax.plot(np.arange(56,67), np.repeat(np.mean(weights_mean[-11:]),11), color=tum_blue_brand, linestyle=':')\n",
    "ax.set_xlabel(\"Input features\")\n",
    "ax.set_ylabel(\"Mean frist layer weight magnitude\")\n",
    "ax.set_ylim(0.03,0.07)\n",
    "ax.set_xlim(0, 67)\n",
    "fig.tight_layout()\n",
    "fig.savefig('../../figures/ohm_models_weights.svg', bbox_inches='tight', format='svg')\n",
    "\n",
    "\n",
    "fig, ax = plt.subplots(1,1,figsize=(4.8,2.5))\n",
    "hm_list = [weights_mean[-66:-55], weights_mean[-55:-44], weights_mean[-44:-33], weights_mean[-33:-22], weights_mean[-22:-11], weights_mean[-11:]]\n",
    "hm_endmember_mean = np.mean(hm_list, axis=0)\n",
    "print(hm_endmember_mean)\n",
    "ax.bar(np.arange(11), hm_endmember_mean, color=tum_blue_brand, width=0.5)\n",
    "ax.set_ylim(0.04,0.06)\n",
    "ax.set_xlim(-0.5, 10.5)\n",
    "ax.set_xticks(range(11))\n",
    "ax.set_xticklabels([\"oxCytc\", \"redCytc\", \"oxCytb\", \"redCytb\", \"oxCCO\", \"redCCO\", \"HHb\", \"HbO$_2$\", \"water\", \"lipids\", \"a'\"], rotation=45)\n",
    "ax.set_ylabel(\"Mean frist layer weight magnitude\")\n",
    "fig.tight_layout()\n",
    "fig.savefig('../../figures/ohm_models_weights_endmembers.svg', bbox_inches='tight', format='svg')"
   ]
  }
 ],
 "metadata": {
  "kernelspec": {
   "display_name": "thesis",
   "language": "python",
   "name": "python3"
  },
  "language_info": {
   "codemirror_mode": {
    "name": "ipython",
    "version": 3
   },
   "file_extension": ".py",
   "mimetype": "text/x-python",
   "name": "python",
   "nbconvert_exporter": "python",
   "pygments_lexer": "ipython3",
   "version": "3.10.13"
  }
 },
 "nbformat": 4,
 "nbformat_minor": 2
}
